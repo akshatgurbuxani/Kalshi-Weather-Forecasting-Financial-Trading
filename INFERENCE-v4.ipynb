{
 "cells": [
  {
   "cell_type": "code",
   "execution_count": 29,
   "metadata": {},
   "outputs": [],
   "source": [
    "\n",
    "import urllib.request\n",
    "\n",
    "api_key = \"api_key\"\n"
   ]
  },
  {
   "cell_type": "code",
   "execution_count": 31,
   "metadata": {},
   "outputs": [
    {
     "data": {
      "text/plain": [
       "('Data/infer_temp.csv', <http.client.HTTPMessage at 0x28066d210>)"
      ]
     },
     "execution_count": 31,
     "metadata": {},
     "output_type": "execute_result"
    }
   ],
   "source": [
    "url = f'https://weather.visualcrossing.com/VisualCrossingWebServices/rest/services/timeline/Central%20Park%20New%20York/2023-09-20/2023-10-01?unitGroup=us&maxDistance=1000&include=days&key={api_key}&elevationDifference=1&contentType=csv'\n",
    "destination = 'Data/infer_temp.csv'\n",
    "\n",
    "urllib.request.urlretrieve(url, destination)"
   ]
  },
  {
   "cell_type": "code",
   "execution_count": 32,
   "metadata": {},
   "outputs": [],
   "source": [
    "import pandas as pd\n",
    "import numpy as np\n",
    "import pickle"
   ]
  },
  {
   "cell_type": "code",
   "execution_count": 33,
   "metadata": {},
   "outputs": [],
   "source": [
    "df = pd.read_csv(destination)\n",
    "# df.head()"
   ]
  },
  {
   "cell_type": "code",
   "execution_count": 34,
   "metadata": {},
   "outputs": [
    {
     "data": {
      "text/html": [
       "<div>\n",
       "<style scoped>\n",
       "    .dataframe tbody tr th:only-of-type {\n",
       "        vertical-align: middle;\n",
       "    }\n",
       "\n",
       "    .dataframe tbody tr th {\n",
       "        vertical-align: top;\n",
       "    }\n",
       "\n",
       "    .dataframe thead th {\n",
       "        text-align: right;\n",
       "    }\n",
       "</style>\n",
       "<table border=\"1\" class=\"dataframe\">\n",
       "  <thead>\n",
       "    <tr style=\"text-align: right;\">\n",
       "      <th></th>\n",
       "      <th>name</th>\n",
       "      <th>datetime</th>\n",
       "      <th>tempmax</th>\n",
       "      <th>tempmin</th>\n",
       "      <th>temp</th>\n",
       "      <th>feelslikemax</th>\n",
       "      <th>feelslikemin</th>\n",
       "      <th>feelslike</th>\n",
       "      <th>dew</th>\n",
       "      <th>humidity</th>\n",
       "      <th>...</th>\n",
       "      <th>solarenergy</th>\n",
       "      <th>uvindex</th>\n",
       "      <th>severerisk</th>\n",
       "      <th>sunrise</th>\n",
       "      <th>sunset</th>\n",
       "      <th>moonphase</th>\n",
       "      <th>conditions</th>\n",
       "      <th>description</th>\n",
       "      <th>icon</th>\n",
       "      <th>stations</th>\n",
       "    </tr>\n",
       "  </thead>\n",
       "  <tbody>\n",
       "    <tr>\n",
       "      <th>7</th>\n",
       "      <td>Central Park, New York, NY 10021, United States</td>\n",
       "      <td>2023-09-27</td>\n",
       "      <td>65.9</td>\n",
       "      <td>52.1</td>\n",
       "      <td>59.0</td>\n",
       "      <td>65.9</td>\n",
       "      <td>52.1</td>\n",
       "      <td>59.0</td>\n",
       "      <td>48.2</td>\n",
       "      <td>68.3</td>\n",
       "      <td>...</td>\n",
       "      <td>16.3</td>\n",
       "      <td>6</td>\n",
       "      <td>10</td>\n",
       "      <td>2023-09-27T06:48:10</td>\n",
       "      <td>2023-09-27T18:45:07</td>\n",
       "      <td>0.44</td>\n",
       "      <td>Partially cloudy</td>\n",
       "      <td>Partly cloudy throughout the day.</td>\n",
       "      <td>partly-cloudy-day</td>\n",
       "      <td>remote</td>\n",
       "    </tr>\n",
       "    <tr>\n",
       "      <th>8</th>\n",
       "      <td>Central Park, New York, NY 10021, United States</td>\n",
       "      <td>2023-09-28</td>\n",
       "      <td>65.0</td>\n",
       "      <td>54.9</td>\n",
       "      <td>60.4</td>\n",
       "      <td>65.0</td>\n",
       "      <td>54.9</td>\n",
       "      <td>60.4</td>\n",
       "      <td>54.1</td>\n",
       "      <td>80.0</td>\n",
       "      <td>...</td>\n",
       "      <td>5.0</td>\n",
       "      <td>2</td>\n",
       "      <td>10</td>\n",
       "      <td>2023-09-28T06:49:11</td>\n",
       "      <td>2023-09-28T18:43:26</td>\n",
       "      <td>0.47</td>\n",
       "      <td>Rain, Partially cloudy</td>\n",
       "      <td>Partly cloudy throughout the day with late aft...</td>\n",
       "      <td>rain</td>\n",
       "      <td>remote</td>\n",
       "    </tr>\n",
       "    <tr>\n",
       "      <th>9</th>\n",
       "      <td>Central Park, New York, NY 10021, United States</td>\n",
       "      <td>2023-09-29</td>\n",
       "      <td>62.0</td>\n",
       "      <td>58.9</td>\n",
       "      <td>60.3</td>\n",
       "      <td>62.0</td>\n",
       "      <td>58.9</td>\n",
       "      <td>60.3</td>\n",
       "      <td>58.5</td>\n",
       "      <td>93.9</td>\n",
       "      <td>...</td>\n",
       "      <td>0.9</td>\n",
       "      <td>1</td>\n",
       "      <td>10</td>\n",
       "      <td>2023-09-29T06:50:11</td>\n",
       "      <td>2023-09-29T18:41:46</td>\n",
       "      <td>0.50</td>\n",
       "      <td>Rain, Overcast</td>\n",
       "      <td>Cloudy skies throughout the day with a chance ...</td>\n",
       "      <td>rain</td>\n",
       "      <td>remote</td>\n",
       "    </tr>\n",
       "    <tr>\n",
       "      <th>10</th>\n",
       "      <td>Central Park, New York, NY 10021, United States</td>\n",
       "      <td>2023-09-30</td>\n",
       "      <td>65.9</td>\n",
       "      <td>58.9</td>\n",
       "      <td>61.7</td>\n",
       "      <td>65.9</td>\n",
       "      <td>58.9</td>\n",
       "      <td>61.7</td>\n",
       "      <td>57.0</td>\n",
       "      <td>85.0</td>\n",
       "      <td>...</td>\n",
       "      <td>6.9</td>\n",
       "      <td>3</td>\n",
       "      <td>10</td>\n",
       "      <td>2023-09-30T06:51:12</td>\n",
       "      <td>2023-09-30T18:40:05</td>\n",
       "      <td>0.54</td>\n",
       "      <td>Rain, Partially cloudy</td>\n",
       "      <td>Partly cloudy throughout the day with a chance...</td>\n",
       "      <td>rain</td>\n",
       "      <td>remote</td>\n",
       "    </tr>\n",
       "    <tr>\n",
       "      <th>11</th>\n",
       "      <td>Central Park, New York, NY 10021, United States</td>\n",
       "      <td>2023-10-01</td>\n",
       "      <td>74.9</td>\n",
       "      <td>58.9</td>\n",
       "      <td>67.5</td>\n",
       "      <td>74.9</td>\n",
       "      <td>58.9</td>\n",
       "      <td>67.5</td>\n",
       "      <td>55.4</td>\n",
       "      <td>66.8</td>\n",
       "      <td>...</td>\n",
       "      <td>17.8</td>\n",
       "      <td>7</td>\n",
       "      <td>10</td>\n",
       "      <td>2023-10-01T06:52:13</td>\n",
       "      <td>2023-10-01T18:38:25</td>\n",
       "      <td>0.57</td>\n",
       "      <td>Clear</td>\n",
       "      <td>Clear conditions throughout the day.</td>\n",
       "      <td>clear-day</td>\n",
       "      <td>remote</td>\n",
       "    </tr>\n",
       "  </tbody>\n",
       "</table>\n",
       "<p>5 rows × 33 columns</p>\n",
       "</div>"
      ],
      "text/plain": [
       "                                               name    datetime  tempmax  \\\n",
       "7   Central Park, New York, NY 10021, United States  2023-09-27     65.9   \n",
       "8   Central Park, New York, NY 10021, United States  2023-09-28     65.0   \n",
       "9   Central Park, New York, NY 10021, United States  2023-09-29     62.0   \n",
       "10  Central Park, New York, NY 10021, United States  2023-09-30     65.9   \n",
       "11  Central Park, New York, NY 10021, United States  2023-10-01     74.9   \n",
       "\n",
       "    tempmin  temp  feelslikemax  feelslikemin  feelslike   dew  humidity  ...  \\\n",
       "7      52.1  59.0          65.9          52.1       59.0  48.2      68.3  ...   \n",
       "8      54.9  60.4          65.0          54.9       60.4  54.1      80.0  ...   \n",
       "9      58.9  60.3          62.0          58.9       60.3  58.5      93.9  ...   \n",
       "10     58.9  61.7          65.9          58.9       61.7  57.0      85.0  ...   \n",
       "11     58.9  67.5          74.9          58.9       67.5  55.4      66.8  ...   \n",
       "\n",
       "    solarenergy  uvindex  severerisk              sunrise  \\\n",
       "7          16.3        6          10  2023-09-27T06:48:10   \n",
       "8           5.0        2          10  2023-09-28T06:49:11   \n",
       "9           0.9        1          10  2023-09-29T06:50:11   \n",
       "10          6.9        3          10  2023-09-30T06:51:12   \n",
       "11         17.8        7          10  2023-10-01T06:52:13   \n",
       "\n",
       "                 sunset  moonphase              conditions  \\\n",
       "7   2023-09-27T18:45:07       0.44        Partially cloudy   \n",
       "8   2023-09-28T18:43:26       0.47  Rain, Partially cloudy   \n",
       "9   2023-09-29T18:41:46       0.50          Rain, Overcast   \n",
       "10  2023-09-30T18:40:05       0.54  Rain, Partially cloudy   \n",
       "11  2023-10-01T18:38:25       0.57                   Clear   \n",
       "\n",
       "                                          description               icon  \\\n",
       "7                   Partly cloudy throughout the day.  partly-cloudy-day   \n",
       "8   Partly cloudy throughout the day with late aft...               rain   \n",
       "9   Cloudy skies throughout the day with a chance ...               rain   \n",
       "10  Partly cloudy throughout the day with a chance...               rain   \n",
       "11               Clear conditions throughout the day.          clear-day   \n",
       "\n",
       "    stations  \n",
       "7     remote  \n",
       "8     remote  \n",
       "9     remote  \n",
       "10    remote  \n",
       "11    remote  \n",
       "\n",
       "[5 rows x 33 columns]"
      ]
     },
     "execution_count": 34,
     "metadata": {},
     "output_type": "execute_result"
    }
   ],
   "source": [
    "df.tail()"
   ]
  },
  {
   "cell_type": "code",
   "execution_count": 35,
   "metadata": {},
   "outputs": [],
   "source": [
    "file = open(\"models/lin_reg.pkl\",'rb')\n",
    "model = pickle.load(file)\n",
    "file.close()"
   ]
  },
  {
   "cell_type": "code",
   "execution_count": 36,
   "metadata": {},
   "outputs": [],
   "source": [
    "def give_next24hrs_pred(model, df):\n",
    "\n",
    "    df.rename(columns = {'datetime':'DATE', 'tempmax':'TMAX', 'tempmin':'TMIN'}, inplace = True)\n",
    "\n",
    "    df = df[['DATE', 'TMAX', 'TMIN']]\n",
    "\n",
    "    df['TMAX_prev7'] = df['TMAX'].rolling(7).max()\n",
    "    df['TMAX_prev3'] = df['TMAX'].rolling(3).max()\n",
    "    df['TMAX_prev2'] = df['TMAX'].rolling(2).max()\n",
    "\n",
    "    df['TMAX_prev1'] = df['TMAX'].rolling(1).max()\n",
    "\n",
    "    df['TMIN_prev3'] = df['TMIN'].rolling(3).max()\n",
    "    df['TMIN_prev2'] = df['TMIN'].rolling(2).max()\n",
    "    df['TMIN_prev1'] = df['TMIN'].rolling(1).max()\n",
    "\n",
    "    df = df.loc[7:, :]\n",
    "\n",
    "    df['DATE'] = pd.to_datetime(df['DATE'])\n",
    "\n",
    "    df['day'] = df['DATE'].dt.day\n",
    "    df['month'] = df['DATE'].dt.month\n",
    "\n",
    "    df.sort_values(by = ['DATE'], inplace = True)\n",
    "    df.set_index(\"DATE\", inplace = True)\n",
    "\n",
    "    df.fillna(-1, inplace = True)\n",
    "\n",
    "    df.drop(['TMIN', 'TMAX'], axis = 1, inplace = True)\n",
    "\n",
    "    print(df)\n",
    "\n",
    "    return model.predict(df)\n",
    "\n",
    "\n"
   ]
  },
  {
   "cell_type": "code",
   "execution_count": 37,
   "metadata": {},
   "outputs": [
    {
     "name": "stdout",
     "output_type": "stream",
     "text": [
      "            TMAX_prev7  TMAX_prev3  TMAX_prev2  TMAX_prev1  TMIN_prev3  \\\n",
      "DATE                                                                     \n",
      "2023-09-27        72.9        65.9        65.9        65.9        58.9   \n",
      "2023-09-28        71.0        65.9        65.9        65.0        58.0   \n",
      "2023-09-29        65.9        65.9        65.0        62.0        58.9   \n",
      "2023-09-30        65.9        65.9        65.9        65.9        58.9   \n",
      "2023-10-01        74.9        74.9        74.9        74.9        58.9   \n",
      "\n",
      "            TMIN_prev2  TMIN_prev1  day  month  \n",
      "DATE                                            \n",
      "2023-09-27        58.0        52.1   27      9  \n",
      "2023-09-28        54.9        54.9   28      9  \n",
      "2023-09-29        58.9        58.9   29      9  \n",
      "2023-09-30        58.9        58.9   30      9  \n",
      "2023-10-01        58.9        58.9    1     10  \n"
     ]
    },
    {
     "name": "stderr",
     "output_type": "stream",
     "text": [
      "/var/folders/x5/1285xgcd3vl1lvxv_nmsdqtc0000gn/T/ipykernel_3135/509194500.py:7: SettingWithCopyWarning: \n",
      "A value is trying to be set on a copy of a slice from a DataFrame.\n",
      "Try using .loc[row_indexer,col_indexer] = value instead\n",
      "\n",
      "See the caveats in the documentation: https://pandas.pydata.org/pandas-docs/stable/user_guide/indexing.html#returning-a-view-versus-a-copy\n",
      "  df['TMAX_prev7'] = df['TMAX'].rolling(7).max()\n",
      "/var/folders/x5/1285xgcd3vl1lvxv_nmsdqtc0000gn/T/ipykernel_3135/509194500.py:8: SettingWithCopyWarning: \n",
      "A value is trying to be set on a copy of a slice from a DataFrame.\n",
      "Try using .loc[row_indexer,col_indexer] = value instead\n",
      "\n",
      "See the caveats in the documentation: https://pandas.pydata.org/pandas-docs/stable/user_guide/indexing.html#returning-a-view-versus-a-copy\n",
      "  df['TMAX_prev3'] = df['TMAX'].rolling(3).max()\n",
      "/var/folders/x5/1285xgcd3vl1lvxv_nmsdqtc0000gn/T/ipykernel_3135/509194500.py:9: SettingWithCopyWarning: \n",
      "A value is trying to be set on a copy of a slice from a DataFrame.\n",
      "Try using .loc[row_indexer,col_indexer] = value instead\n",
      "\n",
      "See the caveats in the documentation: https://pandas.pydata.org/pandas-docs/stable/user_guide/indexing.html#returning-a-view-versus-a-copy\n",
      "  df['TMAX_prev2'] = df['TMAX'].rolling(2).max()\n",
      "/var/folders/x5/1285xgcd3vl1lvxv_nmsdqtc0000gn/T/ipykernel_3135/509194500.py:11: SettingWithCopyWarning: \n",
      "A value is trying to be set on a copy of a slice from a DataFrame.\n",
      "Try using .loc[row_indexer,col_indexer] = value instead\n",
      "\n",
      "See the caveats in the documentation: https://pandas.pydata.org/pandas-docs/stable/user_guide/indexing.html#returning-a-view-versus-a-copy\n",
      "  df['TMAX_prev1'] = df['TMAX'].rolling(1).max()\n",
      "/var/folders/x5/1285xgcd3vl1lvxv_nmsdqtc0000gn/T/ipykernel_3135/509194500.py:13: SettingWithCopyWarning: \n",
      "A value is trying to be set on a copy of a slice from a DataFrame.\n",
      "Try using .loc[row_indexer,col_indexer] = value instead\n",
      "\n",
      "See the caveats in the documentation: https://pandas.pydata.org/pandas-docs/stable/user_guide/indexing.html#returning-a-view-versus-a-copy\n",
      "  df['TMIN_prev3'] = df['TMIN'].rolling(3).max()\n",
      "/var/folders/x5/1285xgcd3vl1lvxv_nmsdqtc0000gn/T/ipykernel_3135/509194500.py:14: SettingWithCopyWarning: \n",
      "A value is trying to be set on a copy of a slice from a DataFrame.\n",
      "Try using .loc[row_indexer,col_indexer] = value instead\n",
      "\n",
      "See the caveats in the documentation: https://pandas.pydata.org/pandas-docs/stable/user_guide/indexing.html#returning-a-view-versus-a-copy\n",
      "  df['TMIN_prev2'] = df['TMIN'].rolling(2).max()\n",
      "/var/folders/x5/1285xgcd3vl1lvxv_nmsdqtc0000gn/T/ipykernel_3135/509194500.py:15: SettingWithCopyWarning: \n",
      "A value is trying to be set on a copy of a slice from a DataFrame.\n",
      "Try using .loc[row_indexer,col_indexer] = value instead\n",
      "\n",
      "See the caveats in the documentation: https://pandas.pydata.org/pandas-docs/stable/user_guide/indexing.html#returning-a-view-versus-a-copy\n",
      "  df['TMIN_prev1'] = df['TMIN'].rolling(1).max()\n"
     ]
    }
   ],
   "source": [
    "preds = give_next24hrs_pred(model, df)"
   ]
  },
  {
   "cell_type": "code",
   "execution_count": 38,
   "metadata": {},
   "outputs": [
    {
     "data": {
      "text/plain": [
       "76.854965"
      ]
     },
     "execution_count": 38,
     "metadata": {},
     "output_type": "execute_result"
    }
   ],
   "source": [
    "preds[-1]"
   ]
  },
  {
   "cell_type": "code",
   "execution_count": 39,
   "metadata": {},
   "outputs": [
    {
     "name": "stdout",
     "output_type": "stream",
     "text": [
      "Prediction next day temperature :  76.854965\n"
     ]
    }
   ],
   "source": [
    "print('Prediction next day temperature : ', preds[-1])"
   ]
  },
  {
   "cell_type": "code",
   "execution_count": null,
   "metadata": {},
   "outputs": [],
   "source": []
  },
  {
   "cell_type": "code",
   "execution_count": null,
   "metadata": {},
   "outputs": [],
   "source": []
  },
  {
   "cell_type": "code",
   "execution_count": null,
   "metadata": {},
   "outputs": [],
   "source": []
  },
  {
   "cell_type": "code",
   "execution_count": null,
   "metadata": {},
   "outputs": [],
   "source": []
  },
  {
   "cell_type": "code",
   "execution_count": null,
   "metadata": {},
   "outputs": [],
   "source": []
  }
 ],
 "metadata": {
  "kernelspec": {
   "display_name": "Python 3 (ipykernel)",
   "language": "python",
   "name": "python3"
  },
  "language_info": {
   "codemirror_mode": {
    "name": "ipython",
    "version": 3
   },
   "file_extension": ".py",
   "mimetype": "text/x-python",
   "name": "python",
   "nbconvert_exporter": "python",
   "pygments_lexer": "ipython3",
   "version": "3.11.5"
  }
 },
 "nbformat": 4,
 "nbformat_minor": 4
}
