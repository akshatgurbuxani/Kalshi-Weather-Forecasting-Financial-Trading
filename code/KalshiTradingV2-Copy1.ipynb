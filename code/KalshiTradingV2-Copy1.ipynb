{
 "cells": [
  {
   "cell_type": "code",
   "execution_count": 28,
   "metadata": {},
   "outputs": [],
   "source": [
    "#%pip install kalshi-python\n",
    "#%pip install kalshi"
   ]
  },
  {
   "cell_type": "code",
   "execution_count": 64,
   "metadata": {},
   "outputs": [],
   "source": [
    "\n",
    "import kalshi_python\n",
    "\n",
    "from KalshiClientsBaseV2 import ExchangeClient\n",
    "import time\n",
    "import json\n",
    "import uuid\n",
    "from xgboost import XGBRegressor\n",
    "from sklearn.model_selection import train_test_split"
   ]
  },
  {
   "cell_type": "code",
   "execution_count": 65,
   "metadata": {},
   "outputs": [
    {
     "name": "stdout",
     "output_type": "stream",
     "text": [
      "{'exchange_active': True, 'trading_active': True}\n"
     ]
    }
   ],
   "source": [
    "\n",
    "\n",
    "demo_email = \"imaksht@gmail.com\" \n",
    "demo_password = \"Demoakshatkalshi@1\" \n",
    "\n",
    "demo_api_base = \"https://demo-api.kalshi.co/trade-api/v2\"\n",
    "\n",
    "\n",
    "exchange_client = ExchangeClient(exchange_api_base = demo_api_base, email = demo_email, password = demo_password)\n",
    "\n",
    "print(exchange_client.get_exchange_status())"
   ]
  },
  {
   "cell_type": "code",
   "execution_count": 66,
   "metadata": {
    "tags": []
   },
   "outputs": [
    {
     "name": "stdout",
     "output_type": "stream",
     "text": [
      "keys: dict_keys(['markets', 'cursor'])\n",
      "\n",
      "number of objects: 100\n",
      "\n",
      "first market in payload: {'ticker': 'AAAGASD-23OCT12-US-3.663', 'event_ticker': 'AAAGASD-23OCT12-US', 'market_type': 'binary', 'title': 'Will average **gas prices** be above $3.663?', 'subtitle': '>$3.663', 'yes_sub_title': 'Rise', 'no_sub_title': 'Maintain or fall', 'open_time': '2023-10-11T14:00:00Z', 'close_time': '2023-10-12T13:55:00Z', 'expected_expiration_time': '2023-10-13T14:00:00Z', 'expiration_time': '2023-10-19T14:00:00Z', 'latest_expiration_time': '2023-10-19T14:00:00Z', 'settlement_timer_seconds': 3600, 'status': 'active', 'response_price_units': 'usd_cent', 'notional_value': 100, 'tick_size': 1, 'yes_bid': 0, 'yes_ask': 0, 'no_bid': 100, 'no_ask': 100, 'last_price': 0, 'previous_yes_bid': 0, 'previous_yes_ask': 0, 'previous_price': 0, 'volume': 0, 'volume_24h': 0, 'liquidity': 0, 'open_interest': 0, 'result': '', 'can_close_early': True, 'expiration_value': '', 'category': 'Economics', 'risk_limit_cents': 2500000, 'strike_type': 'greater', 'floor_strike': 3.663, 'rules_primary': 'If average regular gas prices for the United States are strictly greater than $3.663 on Oct 12, 2023 according to AAA,  the market resolves to Yes.', 'rules_secondary': ''}\n",
      "\n",
      "cursor: CgwI0tKWqQYQkLfUqQESHU5BU0RBUTEwMERVLTIzT0NUMTEtVDE0ODk5Ljk5\n"
     ]
    }
   ],
   "source": [
    "# You can discover markets through the get_markets endpoint...\n",
    "\n",
    "# and use query parameters to filter your search!\n",
    "market_params = {'limit':100,\n",
    "                    'cursor':None, # passing in the cursor from the previous get_markets call\n",
    "                    'event_ticker': None,\n",
    "                    'series_ticker':None,\n",
    "                    'max_close_ts':None, # pass in unix_ts\n",
    "                    'min_close_ts':None, # pass in unix_ts\n",
    "                    'status':None,\n",
    "                    'tickers':None}\n",
    "\n",
    "markets_response = exchange_client.get_markets(**market_params)\n",
    "cursor = markets_response['cursor']\n",
    "\n",
    "print('keys:', markets_response.keys())\n",
    "print()\n",
    "print('number of objects:', len(markets_response['markets'])) # 100 objects!\n",
    "print()\n",
    "print('first market in payload:', markets_response['markets'][0])\n",
    "print()\n",
    "print('cursor:', cursor)"
   ]
  },
  {
   "cell_type": "code",
   "execution_count": null,
   "metadata": {},
   "outputs": [],
   "source": []
  },
  {
   "cell_type": "code",
   "execution_count": null,
   "metadata": {},
   "outputs": [],
   "source": []
  },
  {
   "cell_type": "code",
   "execution_count": 67,
   "metadata": {},
   "outputs": [
    {
     "data": {
      "text/plain": [
       "[25, 26, 27, 28, 29, 30]"
      ]
     },
     "execution_count": 67,
     "metadata": {},
     "output_type": "execute_result"
    }
   ],
   "source": [
    "nyc_indices = [ind for ind in range(len(markets_response['markets'])) if \"high temp in NYC\" in markets_response['markets'][ind]['title']]\n",
    "nyc_indices\n",
    "    "
   ]
  },
  {
   "cell_type": "code",
   "execution_count": null,
   "metadata": {},
   "outputs": [],
   "source": []
  },
  {
   "cell_type": "code",
   "execution_count": null,
   "metadata": {},
   "outputs": [],
   "source": []
  },
  {
   "cell_type": "code",
   "execution_count": 68,
   "metadata": {},
   "outputs": [],
   "source": [
    "    \n",
    "# # Getting to next market objects from next page\n",
    "# # Let's try it in action! Suppose we wanted to get the next 100 market objects...\n",
    "\n",
    "# market_params = {'limit':100,\n",
    "#                     'cursor':cursor, # passing in the cursor from the previous get_markets call\n",
    "#                     'event_ticker': None,\n",
    "#                     'series_ticker': None,\n",
    "#                     'max_close_ts': None, # pass in unix_ts\n",
    "#                     'min_close_ts': None, # pass in unix_ts\n",
    "#                     'status': None,\n",
    "#                     'tickers':None}\n",
    "\n",
    "# markets_response = exchange_client.get_markets(**market_params)\n",
    "# cursor = markets_response['cursor']\n",
    "\n",
    "# print('keys:', markets_response.keys())\n",
    "# print()\n",
    "# print('number of objects:', len(markets_response['markets'])) # 100 objects!\n",
    "# print()\n",
    "# print('first market in market_response payload:', markets_response['markets'][0]) # new markets!\n",
    "# print()\n",
    "# print('new cursor!', cursor)"
   ]
  },
  {
   "cell_type": "code",
   "execution_count": 69,
   "metadata": {},
   "outputs": [],
   "source": [
    "# nyc_indices = [ind for ind in range(len(markets_response['markets'])) if \"high temp in NYC\" in markets_response['markets'][ind]['title']]\n"
   ]
  },
  {
   "cell_type": "code",
   "execution_count": 70,
   "metadata": {},
   "outputs": [],
   "source": [
    "# nyc_indices"
   ]
  },
  {
   "cell_type": "code",
   "execution_count": null,
   "metadata": {},
   "outputs": [],
   "source": []
  },
  {
   "cell_type": "markdown",
   "metadata": {},
   "source": []
  },
  {
   "cell_type": "code",
   "execution_count": null,
   "metadata": {},
   "outputs": [],
   "source": []
  },
  {
   "cell_type": "code",
   "execution_count": 71,
   "metadata": {},
   "outputs": [],
   "source": [
    "\n",
    "def place_order(ticker, side, count = 10, type = 'market'):\n",
    "\n",
    "    order_params = {'ticker':ticker,\n",
    "                    'client_order_id':str(uuid.uuid4()),\n",
    "                    'type':type,\n",
    "                    'action':'buy',\n",
    "                    'side':side,\n",
    "                    'count':count,\n",
    "                    'expiration_ts':None,\n",
    "                    'sell_position_floor':None,\n",
    "                    'buy_max_cost':None}\n",
    "    print(order_params)\n",
    "\n",
    "    exchange_client.create_order(**order_params)\n"
   ]
  },
  {
   "cell_type": "code",
   "execution_count": 72,
   "metadata": {},
   "outputs": [],
   "source": [
    "def get_temps_steps(markets_response, nyc_indices):\n",
    "\n",
    "    temp_steps = []\n",
    "    ticker_list = []\n",
    "    \n",
    "    nyc_indices.sort()\n",
    "    \n",
    "    for ind in nyc_indices:\n",
    "    \n",
    "        l_tokens = markets_response['markets'][ind]['subtitle'].split()\n",
    "    \n",
    "        if \"or\" in markets_response['markets'][ind]['subtitle']:\n",
    "    \n",
    "            num = int(l_tokens[0][:-1])\n",
    "    \n",
    "            temp_steps.append(num)\n",
    "\n",
    "            ticker_list.append(markets_response['markets'][ind]['ticker'])\n",
    "    \n",
    "        else:\n",
    "    \n",
    "            l_tokens = markets_response['markets'][ind]['subtitle'].split()\n",
    "    \n",
    "            num1 = int(l_tokens[0][:-1])\n",
    "            num2 = int(l_tokens[-1][:-1])\n",
    "    \n",
    "            temp_steps.append([num1, num2])\n",
    "\n",
    "            ticker_list.append(markets_response['markets'][ind]['ticker'])\n",
    "\n",
    "\n",
    "    temp_steps.reverse()\n",
    "    ticker_list.reverse()\n",
    "\n",
    "    return temp_steps, ticker_list\n",
    "    "
   ]
  },
  {
   "cell_type": "code",
   "execution_count": 73,
   "metadata": {},
   "outputs": [],
   "source": [
    "temp_steps, ticker_list = get_temps_steps(markets_response, nyc_indices)"
   ]
  },
  {
   "cell_type": "code",
   "execution_count": 74,
   "metadata": {},
   "outputs": [
    {
     "data": {
      "text/plain": [
       "[62, [63, 64], [65, 66], [67, 68], [69, 70], 71]"
      ]
     },
     "execution_count": 74,
     "metadata": {},
     "output_type": "execute_result"
    }
   ],
   "source": [
    "temp_steps"
   ]
  },
  {
   "cell_type": "code",
   "execution_count": 75,
   "metadata": {},
   "outputs": [],
   "source": [
    "def point_the_range(temp_steps, val):\n",
    "\n",
    "    for i in range(len(temp_steps)):\n",
    "\n",
    "        if type(temp_steps[i]) == list:\n",
    "\n",
    "            if val <= temp_steps[i][1] and val >= temp_steps[i][0]:\n",
    "\n",
    "                return i\n",
    "\n",
    "            if i == 0 and val <= temp_steps[0][0]:\n",
    "                return i\n",
    "\n",
    "            if i == len(temp_steps)-1 and val >= temp_steps[-1][1]:\n",
    "                return i\n",
    "        else:\n",
    "\n",
    "            if i == 0:\n",
    "\n",
    "                if val <= temp_steps[0]:\n",
    "\n",
    "                    return 0\n",
    "            else:\n",
    "\n",
    "                if val >= temp_steps[-1]:\n",
    "                    return len(temp_steps)-1\n",
    "\n",
    "    return -1\n",
    "        \n",
    "\n",
    "    \n",
    "                    "
   ]
  },
  {
   "cell_type": "code",
   "execution_count": 76,
   "metadata": {},
   "outputs": [],
   "source": [
    "\n",
    "import urllib.request\n",
    "\n",
    "api_key = \"FJMSWDF8QYLB5T5852LNJLGCK\"\n"
   ]
  },
  {
   "cell_type": "code",
   "execution_count": 77,
   "metadata": {},
   "outputs": [
    {
     "data": {
      "text/plain": [
       "('../Data/infer_temp.csv', <http.client.HTTPMessage at 0x16e0e14c0>)"
      ]
     },
     "execution_count": 77,
     "metadata": {},
     "output_type": "execute_result"
    }
   ],
   "source": [
    "url = f'https://weather.visualcrossing.com/VisualCrossingWebServices/rest/services/timeline/Central%20Park%20New%20York/2023-09-20/2023-10-08?unitGroup=us&maxDistance=1000&include=days&key={api_key}&elevationDifference=1&contentType=csv'\n",
    "destination = '../Data/infer_temp.csv'\n",
    "\n",
    "urllib.request.urlretrieve(url, destination)"
   ]
  },
  {
   "cell_type": "code",
   "execution_count": 78,
   "metadata": {},
   "outputs": [],
   "source": [
    "import pandas as pd\n",
    "import numpy as np\n",
    "import pickle"
   ]
  },
  {
   "cell_type": "code",
   "execution_count": 79,
   "metadata": {},
   "outputs": [],
   "source": [
    "file = open(\"../Model/lin_reg.pkl\",'rb')\n",
    "model = pickle.load(file)\n",
    "file.close()"
   ]
  },
  {
   "cell_type": "code",
   "execution_count": 80,
   "metadata": {},
   "outputs": [],
   "source": [
    "df = pd.read_csv(destination)\n"
   ]
  },
  {
   "cell_type": "code",
   "execution_count": 81,
   "metadata": {},
   "outputs": [
    {
     "data": {
      "text/plain": [
       "Index(['name', 'datetime', 'tempmax', 'tempmin', 'temp', 'feelslikemax',\n",
       "       'feelslikemin', 'feelslike', 'dew', 'humidity', 'precip', 'precipprob',\n",
       "       'precipcover', 'preciptype', 'snow', 'snowdepth', 'windgust',\n",
       "       'windspeed', 'winddir', 'sealevelpressure', 'cloudcover', 'visibility',\n",
       "       'solarradiation', 'solarenergy', 'uvindex', 'severerisk', 'sunrise',\n",
       "       'sunset', 'moonphase', 'conditions', 'description', 'icon', 'stations'],\n",
       "      dtype='object')"
      ]
     },
     "execution_count": 81,
     "metadata": {},
     "output_type": "execute_result"
    }
   ],
   "source": [
    "df.columns"
   ]
  },
  {
   "cell_type": "code",
   "execution_count": 88,
   "metadata": {},
   "outputs": [],
   "source": [
    "def give_next24hrs_pred(model, df):\n",
    "\n",
    "    df.rename(columns = {'datetime':'DATE', 'tempmax':'TMAX', 'tempmin':'TMIN'}, inplace = True)\n",
    "\n",
    "    df = df[['DATE', 'TMAX', 'TMIN']]\n",
    "\n",
    "    df['TMAX_prev7'] = df['TMAX'].rolling(7).max()\n",
    "    df['TMAX_prev3'] = df['TMAX'].rolling(3).max()\n",
    "    df['TMAX_prev2'] = df['TMAX'].rolling(2).max()\n",
    "\n",
    "    df['TMAX_prev1'] = df['TMAX'].rolling(1).max()\n",
    "\n",
    "    df['TMIN_prev3'] = df['TMIN'].rolling(3).max()\n",
    "    df['TMIN_prev2'] = df['TMIN'].rolling(2).max()\n",
    "    df['TMIN_prev1'] = df['TMIN'].rolling(1).max()\n",
    "\n",
    "    df = df.loc[7:, :]\n",
    "\n",
    "    df['DATE'] = pd.to_datetime(df['DATE'])\n",
    "\n",
    "    df['day'] = df['DATE'].dt.day\n",
    "    df['month'] = df['DATE'].dt.month\n",
    "\n",
    "    df.sort_values(by = ['DATE'], inplace = True)\n",
    "    df.set_index(\"DATE\", inplace = True)\n",
    "\n",
    "    df.fillna(-1, inplace = True)\n",
    "\n",
    "    df.drop(['TMIN', 'TMAX'], axis = 1, inplace = True)\n",
    "\n",
    "    print(df)\n",
    "\n",
    "    return model.predict(df)\n",
    "\n",
    "\n"
   ]
  },
  {
   "cell_type": "code",
   "execution_count": 83,
   "metadata": {},
   "outputs": [
    {
     "data": {
      "text/plain": [
       "Index(['name', 'datetime', 'tempmax', 'tempmin', 'temp', 'feelslikemax',\n",
       "       'feelslikemin', 'feelslike', 'dew', 'humidity', 'precip', 'precipprob',\n",
       "       'precipcover', 'preciptype', 'snow', 'snowdepth', 'windgust',\n",
       "       'windspeed', 'winddir', 'sealevelpressure', 'cloudcover', 'visibility',\n",
       "       'solarradiation', 'solarenergy', 'uvindex', 'severerisk', 'sunrise',\n",
       "       'sunset', 'moonphase', 'conditions', 'description', 'icon', 'stations'],\n",
       "      dtype='object')"
      ]
     },
     "execution_count": 83,
     "metadata": {},
     "output_type": "execute_result"
    }
   ],
   "source": [
    "df.columns\n",
    "df.drop(['name']), axis = 1, inplace = True)"
   ]
  },
  {
   "cell_type": "code",
   "execution_count": 84,
   "metadata": {},
   "outputs": [],
   "source": [
    "train_df, test_df = train_test_split(df)"
   ]
  },
  {
   "cell_type": "code",
   "execution_count": 85,
   "metadata": {},
   "outputs": [
    {
     "data": {
      "text/html": [
       "<div>\n",
       "<style scoped>\n",
       "    .dataframe tbody tr th:only-of-type {\n",
       "        vertical-align: middle;\n",
       "    }\n",
       "\n",
       "    .dataframe tbody tr th {\n",
       "        vertical-align: top;\n",
       "    }\n",
       "\n",
       "    .dataframe thead th {\n",
       "        text-align: right;\n",
       "    }\n",
       "</style>\n",
       "<table border=\"1\" class=\"dataframe\">\n",
       "  <thead>\n",
       "    <tr style=\"text-align: right;\">\n",
       "      <th></th>\n",
       "      <th>name</th>\n",
       "      <th>datetime</th>\n",
       "      <th>tempmax</th>\n",
       "      <th>tempmin</th>\n",
       "      <th>temp</th>\n",
       "      <th>feelslikemax</th>\n",
       "      <th>feelslikemin</th>\n",
       "      <th>feelslike</th>\n",
       "      <th>dew</th>\n",
       "      <th>humidity</th>\n",
       "      <th>...</th>\n",
       "      <th>solarenergy</th>\n",
       "      <th>uvindex</th>\n",
       "      <th>severerisk</th>\n",
       "      <th>sunrise</th>\n",
       "      <th>sunset</th>\n",
       "      <th>moonphase</th>\n",
       "      <th>conditions</th>\n",
       "      <th>description</th>\n",
       "      <th>icon</th>\n",
       "      <th>stations</th>\n",
       "    </tr>\n",
       "  </thead>\n",
       "  <tbody>\n",
       "    <tr>\n",
       "      <th>16</th>\n",
       "      <td>Central Park, New York, NY 10021, United States</td>\n",
       "      <td>2023-10-06</td>\n",
       "      <td>72.1</td>\n",
       "      <td>65.0</td>\n",
       "      <td>68.2</td>\n",
       "      <td>72.1</td>\n",
       "      <td>65.0</td>\n",
       "      <td>68.2</td>\n",
       "      <td>65.2</td>\n",
       "      <td>90.7</td>\n",
       "      <td>...</td>\n",
       "      <td>6.1</td>\n",
       "      <td>2</td>\n",
       "      <td>10</td>\n",
       "      <td>2023-10-06T06:57:21</td>\n",
       "      <td>2023-10-06T18:30:12</td>\n",
       "      <td>0.75</td>\n",
       "      <td>Rain, Overcast</td>\n",
       "      <td>Cloudy skies throughout the day with rain.</td>\n",
       "      <td>rain</td>\n",
       "      <td>remote</td>\n",
       "    </tr>\n",
       "    <tr>\n",
       "      <th>12</th>\n",
       "      <td>Central Park, New York, NY 10021, United States</td>\n",
       "      <td>2023-10-02</td>\n",
       "      <td>76.9</td>\n",
       "      <td>63.1</td>\n",
       "      <td>69.2</td>\n",
       "      <td>76.9</td>\n",
       "      <td>63.1</td>\n",
       "      <td>69.2</td>\n",
       "      <td>57.5</td>\n",
       "      <td>67.3</td>\n",
       "      <td>...</td>\n",
       "      <td>17.0</td>\n",
       "      <td>7</td>\n",
       "      <td>10</td>\n",
       "      <td>2023-10-02T06:53:14</td>\n",
       "      <td>2023-10-02T18:36:46</td>\n",
       "      <td>0.61</td>\n",
       "      <td>Clear</td>\n",
       "      <td>Clear conditions throughout the day.</td>\n",
       "      <td>clear-day</td>\n",
       "      <td>remote</td>\n",
       "    </tr>\n",
       "    <tr>\n",
       "      <th>17</th>\n",
       "      <td>Central Park, New York, NY 10021, United States</td>\n",
       "      <td>2023-10-07</td>\n",
       "      <td>69.0</td>\n",
       "      <td>56.9</td>\n",
       "      <td>64.2</td>\n",
       "      <td>69.0</td>\n",
       "      <td>56.9</td>\n",
       "      <td>64.2</td>\n",
       "      <td>60.3</td>\n",
       "      <td>87.8</td>\n",
       "      <td>...</td>\n",
       "      <td>3.1</td>\n",
       "      <td>2</td>\n",
       "      <td>10</td>\n",
       "      <td>2023-10-07T06:58:23</td>\n",
       "      <td>2023-10-07T18:28:34</td>\n",
       "      <td>0.77</td>\n",
       "      <td>Rain, Partially cloudy</td>\n",
       "      <td>Partly cloudy throughout the day with a chance...</td>\n",
       "      <td>rain</td>\n",
       "      <td>remote</td>\n",
       "    </tr>\n",
       "    <tr>\n",
       "      <th>8</th>\n",
       "      <td>Central Park, New York, NY 10021, United States</td>\n",
       "      <td>2023-09-28</td>\n",
       "      <td>65.0</td>\n",
       "      <td>54.9</td>\n",
       "      <td>60.4</td>\n",
       "      <td>65.0</td>\n",
       "      <td>54.9</td>\n",
       "      <td>60.4</td>\n",
       "      <td>54.1</td>\n",
       "      <td>80.0</td>\n",
       "      <td>...</td>\n",
       "      <td>5.0</td>\n",
       "      <td>2</td>\n",
       "      <td>10</td>\n",
       "      <td>2023-09-28T06:49:11</td>\n",
       "      <td>2023-09-28T18:43:26</td>\n",
       "      <td>0.47</td>\n",
       "      <td>Rain, Partially cloudy</td>\n",
       "      <td>Partly cloudy throughout the day with late aft...</td>\n",
       "      <td>rain</td>\n",
       "      <td>remote</td>\n",
       "    </tr>\n",
       "    <tr>\n",
       "      <th>9</th>\n",
       "      <td>Central Park, New York, NY 10021, United States</td>\n",
       "      <td>2023-09-29</td>\n",
       "      <td>62.0</td>\n",
       "      <td>58.9</td>\n",
       "      <td>60.3</td>\n",
       "      <td>62.0</td>\n",
       "      <td>58.9</td>\n",
       "      <td>60.3</td>\n",
       "      <td>58.5</td>\n",
       "      <td>93.9</td>\n",
       "      <td>...</td>\n",
       "      <td>0.9</td>\n",
       "      <td>1</td>\n",
       "      <td>10</td>\n",
       "      <td>2023-09-29T06:50:11</td>\n",
       "      <td>2023-09-29T18:41:46</td>\n",
       "      <td>0.50</td>\n",
       "      <td>Rain, Overcast</td>\n",
       "      <td>Cloudy skies throughout the day with a chance ...</td>\n",
       "      <td>rain</td>\n",
       "      <td>remote</td>\n",
       "    </tr>\n",
       "  </tbody>\n",
       "</table>\n",
       "<p>5 rows × 33 columns</p>\n",
       "</div>"
      ],
      "text/plain": [
       "                                               name    datetime  tempmax  \\\n",
       "16  Central Park, New York, NY 10021, United States  2023-10-06     72.1   \n",
       "12  Central Park, New York, NY 10021, United States  2023-10-02     76.9   \n",
       "17  Central Park, New York, NY 10021, United States  2023-10-07     69.0   \n",
       "8   Central Park, New York, NY 10021, United States  2023-09-28     65.0   \n",
       "9   Central Park, New York, NY 10021, United States  2023-09-29     62.0   \n",
       "\n",
       "    tempmin  temp  feelslikemax  feelslikemin  feelslike   dew  humidity  ...  \\\n",
       "16     65.0  68.2          72.1          65.0       68.2  65.2      90.7  ...   \n",
       "12     63.1  69.2          76.9          63.1       69.2  57.5      67.3  ...   \n",
       "17     56.9  64.2          69.0          56.9       64.2  60.3      87.8  ...   \n",
       "8      54.9  60.4          65.0          54.9       60.4  54.1      80.0  ...   \n",
       "9      58.9  60.3          62.0          58.9       60.3  58.5      93.9  ...   \n",
       "\n",
       "    solarenergy  uvindex  severerisk              sunrise  \\\n",
       "16          6.1        2          10  2023-10-06T06:57:21   \n",
       "12         17.0        7          10  2023-10-02T06:53:14   \n",
       "17          3.1        2          10  2023-10-07T06:58:23   \n",
       "8           5.0        2          10  2023-09-28T06:49:11   \n",
       "9           0.9        1          10  2023-09-29T06:50:11   \n",
       "\n",
       "                 sunset  moonphase              conditions  \\\n",
       "16  2023-10-06T18:30:12       0.75          Rain, Overcast   \n",
       "12  2023-10-02T18:36:46       0.61                   Clear   \n",
       "17  2023-10-07T18:28:34       0.77  Rain, Partially cloudy   \n",
       "8   2023-09-28T18:43:26       0.47  Rain, Partially cloudy   \n",
       "9   2023-09-29T18:41:46       0.50          Rain, Overcast   \n",
       "\n",
       "                                          description       icon  stations  \n",
       "16         Cloudy skies throughout the day with rain.       rain    remote  \n",
       "12               Clear conditions throughout the day.  clear-day    remote  \n",
       "17  Partly cloudy throughout the day with a chance...       rain    remote  \n",
       "8   Partly cloudy throughout the day with late aft...       rain    remote  \n",
       "9   Cloudy skies throughout the day with a chance ...       rain    remote  \n",
       "\n",
       "[5 rows x 33 columns]"
      ]
     },
     "execution_count": 85,
     "metadata": {},
     "output_type": "execute_result"
    }
   ],
   "source": [
    "test_df.head()"
   ]
  },
  {
   "cell_type": "code",
   "execution_count": 90,
   "metadata": {},
   "outputs": [],
   "source": [
    "X_train, X_test, y_train, y_test = train_df.drop(['tempmax'], axis = 1).values, test_df.drop(['tempmax'], axis = 1).values, train_df['tempmax'].values, test_df['tempmax'].values "
   ]
  },
  {
   "cell_type": "code",
   "execution_count": 1,
   "metadata": {},
   "outputs": [],
   "source": [
    "model = XGBRegressor()\n",
    "model.fit(X_train, y_train)"
   ]
  },
  {
   "cell_type": "code",
   "execution_count": 2,
   "metadata": {},
   "outputs": [],
   "source": [
    "preds = give_next24hrs_pred(model, df)"
   ]
  },
  {
   "cell_type": "code",
   "execution_count": null,
   "metadata": {},
   "outputs": [],
   "source": [
    "pred = preds[-1]"
   ]
  },
  {
   "cell_type": "code",
   "execution_count": null,
   "metadata": {},
   "outputs": [
    {
     "data": {
      "text/plain": [
       "60.68068"
      ]
     },
     "execution_count": 21,
     "metadata": {},
     "output_type": "execute_result"
    }
   ],
   "source": [
    "pred"
   ]
  },
  {
   "cell_type": "code",
   "execution_count": null,
   "metadata": {},
   "outputs": [],
   "source": []
  },
  {
   "cell_type": "code",
   "execution_count": null,
   "metadata": {},
   "outputs": [],
   "source": [
    "our_pt = point_the_range(temp_steps, pred)"
   ]
  },
  {
   "cell_type": "code",
   "execution_count": null,
   "metadata": {},
   "outputs": [
    {
     "name": "stdout",
     "output_type": "stream",
     "text": [
      "{'ticker': 'HIGHNY-23OCT11-T70', 'client_order_id': 'a0a65db2-55d6-4f44-8969-63f7eb233dac', 'type': 'market', 'action': 'buy', 'side': 'no', 'count': 1, 'expiration_ts': None, 'sell_position_floor': None, 'buy_max_cost': None}\n",
      "{'ticker': 'HIGHNY-23OCT11-T70', 'client_order_id': 'a0a65db2-55d6-4f44-8969-63f7eb233dac', 'side': 'no', 'action': 'buy', 'count': 1, 'type': 'market'}\n"
     ]
    }
   ],
   "source": [
    "max_ind = 1\n",
    "max_dis =1\n",
    "for ind in range(len(temp_steps)):\n",
    "    if max_dis < abs(ind - our_pt):\n",
    "        max_dis = abs(ind - our_pt)\n",
    "        max_ind - ind\n",
    "place_order(ticker_list[ind], 'no', count = 1)"
   ]
  },
  {
   "cell_type": "code",
   "execution_count": null,
   "metadata": {},
   "outputs": [
    {
     "name": "stdout",
     "output_type": "stream",
     "text": [
      "{'ticker': 'HIGHNY-23OCT11-B63.5', 'client_order_id': '071c99a7-749c-4409-b3ae-5f877313c0c3', 'type': 'market', 'action': 'buy', 'side': 'no', 'count': 83, 'expiration_ts': None, 'sell_position_floor': None, 'buy_max_cost': None}\n",
      "{'ticker': 'HIGHNY-23OCT11-B63.5', 'client_order_id': '071c99a7-749c-4409-b3ae-5f877313c0c3', 'side': 'no', 'action': 'buy', 'count': 83, 'type': 'market'}\n",
      "{'ticker': 'HIGHNY-23OCT11-B65.5', 'client_order_id': 'eac2ed67-573e-4a38-bc7c-979fc085bc97', 'type': 'market', 'action': 'buy', 'side': 'no', 'count': 66, 'expiration_ts': None, 'sell_position_floor': None, 'buy_max_cost': None}\n",
      "{'ticker': 'HIGHNY-23OCT11-B65.5', 'client_order_id': 'eac2ed67-573e-4a38-bc7c-979fc085bc97', 'side': 'no', 'action': 'buy', 'count': 66, 'type': 'market'}\n",
      "{'ticker': 'HIGHNY-23OCT11-B67.5', 'client_order_id': '989febf8-60f3-4c5d-bc7e-6117ec1bc62c', 'type': 'market', 'action': 'buy', 'side': 'no', 'count': 50, 'expiration_ts': None, 'sell_position_floor': None, 'buy_max_cost': None}\n",
      "{'ticker': 'HIGHNY-23OCT11-B67.5', 'client_order_id': '989febf8-60f3-4c5d-bc7e-6117ec1bc62c', 'side': 'no', 'action': 'buy', 'count': 50, 'type': 'market'}\n",
      "{'ticker': 'HIGHNY-23OCT11-B69.5', 'client_order_id': '6df1e65a-5b14-4433-a687-7df0a4b28db0', 'type': 'market', 'action': 'buy', 'side': 'no', 'count': 33, 'expiration_ts': None, 'sell_position_floor': None, 'buy_max_cost': None}\n",
      "{'ticker': 'HIGHNY-23OCT11-B69.5', 'client_order_id': '6df1e65a-5b14-4433-a687-7df0a4b28db0', 'side': 'no', 'action': 'buy', 'count': 33, 'type': 'market'}\n",
      "{'ticker': 'HIGHNY-23OCT11-T63', 'client_order_id': 'ccf5ae2b-c5f5-4ecd-9d7b-495fa1c07638', 'type': 'market', 'action': 'buy', 'side': 'no', 'count': 16, 'expiration_ts': None, 'sell_position_floor': None, 'buy_max_cost': None}\n",
      "{'ticker': 'HIGHNY-23OCT11-T63', 'client_order_id': 'ccf5ae2b-c5f5-4ecd-9d7b-495fa1c07638', 'side': 'no', 'action': 'buy', 'count': 16, 'type': 'market'}\n"
     ]
    }
   ],
   "source": [
    "num_count = 100\n",
    "\n",
    "for ind in range(len(temp_steps)):\n",
    "\n",
    "    if ind != our_pt:\n",
    "\n",
    "        try:\n",
    "\n",
    "            count = int(abs(ind - our_pt) * num_count/len(temp_steps))\n",
    "    \n",
    "            place_order(ticker_list[ind], 'no', count = count)\n",
    "        except:\n",
    "            pass"
   ]
  },
  {
   "cell_type": "code",
   "execution_count": null,
   "metadata": {},
   "outputs": [],
   "source": []
  },
  {
   "cell_type": "code",
   "execution_count": null,
   "metadata": {},
   "outputs": [],
   "source": []
  },
  {
   "cell_type": "code",
   "execution_count": null,
   "metadata": {},
   "outputs": [],
   "source": []
  },
  {
   "cell_type": "code",
   "execution_count": null,
   "metadata": {},
   "outputs": [
    {
     "data": {
      "text/plain": [
       "{'balance': 1057279}"
      ]
     },
     "execution_count": 50,
     "metadata": {},
     "output_type": "execute_result"
    }
   ],
   "source": [
    "# Now let's suppose we wanted to place a trade on one of these markets... \n",
    "# to do so, we would first want to check out available balance...\n",
    "\n",
    "current_balance = exchange_client.get_balance()\n",
    "current_balance"
   ]
  },
  {
   "cell_type": "code",
   "execution_count": null,
   "metadata": {},
   "outputs": [],
   "source": []
  },
  {
   "cell_type": "code",
   "execution_count": null,
   "metadata": {},
   "outputs": [
    {
     "name": "stdout",
     "output_type": "stream",
     "text": [
      "{'ticker': 'HIGHNY-23OCT09-B58.5', 'client_order_id': 'f589b53e-60fb-4550-8129-6e88a124a093', 'side': 'no', 'action': 'buy', 'count': 10, 'type': 'market'}\n"
     ]
    },
    {
     "data": {
      "text/plain": [
       "{'order': {'order_id': '26c758bf-d959-4e59-b992-533b4f191dd5',\n",
       "  'user_id': '29596cf5-9060-415b-b7bd-797be9b8f741',\n",
       "  'ticker': 'HIGHNY-23OCT09-B58.5',\n",
       "  'status': 'resting',\n",
       "  'yes_price': 1,\n",
       "  'no_price': 99,\n",
       "  'created_time': '2023-10-09T18:48:15.393164Z',\n",
       "  'expiration_time': None,\n",
       "  'action': 'buy',\n",
       "  'side': 'no',\n",
       "  'type': 'market',\n",
       "  'client_order_id': 'f589b53e-60fb-4550-8129-6e88a124a093',\n",
       "  'order_group_id': ''}}"
      ]
     },
     "execution_count": 52,
     "metadata": {},
     "output_type": "execute_result"
    }
   ],
   "source": [
    "\n",
    "ticker = 'HIGHNY-23OCT09-B58.5'\n",
    "\n",
    "order_params = {'ticker':ticker,\n",
    "                    'client_order_id':str(uuid.uuid4()),\n",
    "                    'type':'market',\n",
    "                    'action':'buy',\n",
    "                    'side':'no',\n",
    "                    'count':10,\n",
    "                    'expiration_ts':None,\n",
    "                    'sell_position_floor':None,\n",
    "                    'buy_max_cost':None}\n",
    "\n",
    "exchange_client.create_order(**order_params)\n",
    "\n",
    "\n",
    "# exchange_client.create_order(**order_params)             \n"
   ]
  },
  {
   "cell_type": "code",
   "execution_count": null,
   "metadata": {},
   "outputs": [],
   "source": [
    "# Now that you have some balance, you might want to see how your current positions are doing...\n",
    "\n",
    "positions_params = {'limit': None,\n",
    "                        'cursor': None,\n",
    "                        'settlement_status': None,\n",
    "                        'ticker': None,\n",
    "                        'event_ticker': None}\n",
    "\n",
    "current_position = exchange_client.get_positions(**positions_params)\n",
    "current_position"
   ]
  },
  {
   "cell_type": "code",
   "execution_count": null,
   "metadata": {},
   "outputs": [],
   "source": []
  },
  {
   "cell_type": "code",
   "execution_count": null,
   "metadata": {},
   "outputs": [],
   "source": []
  },
  {
   "cell_type": "code",
   "execution_count": null,
   "metadata": {},
   "outputs": [],
   "source": []
  },
  {
   "cell_type": "code",
   "execution_count": null,
   "metadata": {},
   "outputs": [],
   "source": []
  },
  {
   "cell_type": "code",
   "execution_count": null,
   "metadata": {},
   "outputs": [],
   "source": [
    "import pandas as pd\n",
    "from sklearn.ensemble import RandomForestClassifier"
   ]
  },
  {
   "cell_type": "code",
   "execution_count": null,
   "metadata": {},
   "outputs": [],
   "source": []
  }
 ],
 "metadata": {
  "kernelspec": {
   "display_name": "Python 3 (ipykernel)",
   "language": "python",
   "name": "python3"
  },
  "language_info": {
   "codemirror_mode": {
    "name": "ipython",
    "version": 3
   },
   "file_extension": ".py",
   "mimetype": "text/x-python",
   "name": "python",
   "nbconvert_exporter": "python",
   "pygments_lexer": "ipython3",
   "version": "3.9.6"
  },
  "vscode": {
   "interpreter": {
    "hash": "1e51d4bf4e6bbe92f2ac3572d179994f6afffdaaebc6d7bcc5f1b4952a9d4584"
   }
  }
 },
 "nbformat": 4,
 "nbformat_minor": 4
}
